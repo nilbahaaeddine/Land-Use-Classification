{
 "cells": [
  {
   "cell_type": "code",
   "execution_count": null,
   "metadata": {},
   "outputs": [],
   "source": [
    "import os\n",
    "import glob\n",
    "import tifffile\n",
    "import numpy as np\n",
    "import pandas as pd"
   ]
  },
  {
   "cell_type": "markdown",
   "metadata": {
    "id": "_pJr2QX16y0C"
   },
   "source": [
    "# Préparer les données"
   ]
  },
  {
   "cell_type": "markdown",
   "metadata": {
    "id": "wVrWVyvfkBDD"
   },
   "source": [
    "### **Lecture de la série temporelle d'images et Normalisation par bande sur la série temporelle entre 0 et 1** "
   ]
  },
  {
   "cell_type": "markdown",
   "metadata": {
    "id": "95CB2_IllQFu"
   },
   "source": [
    "#### **Lecture des images et création des séries temporelles de bandes**"
   ]
  },
  {
   "cell_type": "code",
   "execution_count": null,
   "metadata": {
    "colab": {
     "base_uri": "https://localhost:8080/"
    },
    "id": "Ut67k4u3Vezu",
    "outputId": "6dd8c2cd-7406-46e3-a099-cb47c9c07613"
   },
   "outputs": [],
   "source": [
    "# Récupérer la liste des images\n",
    "lst_img = glob.glob('Data/Images/*.tif')\n",
    "lst_img.sort()\n",
    "lst_img"
   ]
  },
  {
   "cell_type": "code",
   "execution_count": null,
   "metadata": {
    "colab": {
     "base_uri": "https://localhost:8080/"
    },
    "id": "GSpMjDMNa-Bg",
    "outputId": "c28a54c4-2108-49f6-c7ee-d53ec74d4665"
   },
   "outputs": [],
   "source": [
    "# Lecture de la bande du rouge (B1) pour toute la série temporelle\n",
    "red_ts = []\n",
    "for img in lst_img:\n",
    "    red_ts.append(tifffile.imread(img)[:,:,0])\n",
    "red_ts = np.dstack(red_ts)\n",
    "red_ts.shape"
   ]
  },
  {
   "cell_type": "code",
   "execution_count": null,
   "metadata": {
    "colab": {
     "base_uri": "https://localhost:8080/"
    },
    "id": "X97WsP3kcTL1",
    "outputId": "b40042ad-a87b-4ea9-d461-a985714b0ba0"
   },
   "outputs": [],
   "source": [
    "# Lecture de la bande du vert (B2) pour toute la série temporelle\n",
    "green_ts = []\n",
    "for img in lst_img:\n",
    "    green_ts.append(tifffile.imread(img)[:,:,1])\n",
    "green_ts = np.dstack(green_ts)\n",
    "green_ts.shape"
   ]
  },
  {
   "cell_type": "code",
   "execution_count": null,
   "metadata": {
    "colab": {
     "base_uri": "https://localhost:8080/"
    },
    "id": "t1GBdVCGcbcK",
    "outputId": "d217a7c2-a5a7-4946-87a2-48ee43d6f073"
   },
   "outputs": [],
   "source": [
    "# Lecture de la bande du bleu (B3) pour toute la série temporelle\n",
    "blue_ts = []\n",
    "for img in lst_img:\n",
    "    blue_ts.append(tifffile.imread(img)[:,:,2])\n",
    "blue_ts = np.dstack(blue_ts)\n",
    "blue_ts.shape"
   ]
  },
  {
   "cell_type": "code",
   "execution_count": null,
   "metadata": {
    "colab": {
     "base_uri": "https://localhost:8080/"
    },
    "id": "fDd4BjV-cbz8",
    "outputId": "27a4f26e-98c9-44df-f589-3f85b61fe0bc"
   },
   "outputs": [],
   "source": [
    "# Lecture de la bande du proche infrarouge (B4) pour toute la série temporelle\n",
    "nir_ts = []\n",
    "for img in lst_img:\n",
    "    nir_ts.append(tifffile.imread(img)[:,:,3])\n",
    "nir_ts = np.dstack(nir_ts)\n",
    "nir_ts.shape"
   ]
  },
  {
   "cell_type": "markdown",
   "metadata": {
    "id": "rOOWsKQHlHvS"
   },
   "source": [
    "#### **Normalisation en utilisant le min et le max des bandes sur les séries temporelles**"
   ]
  },
  {
   "cell_type": "code",
   "execution_count": null,
   "metadata": {
    "colab": {
     "base_uri": "https://localhost:8080/"
    },
    "id": "IoOk5-UccvSe",
    "outputId": "dc75e2a8-d10f-45b7-eb60-71d097f9aa26"
   },
   "outputs": [],
   "source": [
    "# Normalisation des séries temporelles par bande: Rouge\n",
    "red_ts_norm = ( red_ts - red_ts.min() ) / ( red_ts.max() - red_ts.min() ).astype(np.float32)\n",
    "del red_ts\n",
    "print(red_ts_norm.min() , red_ts_norm.max(), red_ts_norm.shape, red_ts_norm.dtype)"
   ]
  },
  {
   "cell_type": "code",
   "execution_count": null,
   "metadata": {
    "colab": {
     "base_uri": "https://localhost:8080/"
    },
    "id": "-c1DlhJTe_6h",
    "outputId": "c0fcc66c-5a0d-4fc5-d107-9744d23b9007"
   },
   "outputs": [],
   "source": [
    "# Normalisation des séries temporelles par bande: Vert\n",
    "green_ts_norm = ( green_ts - green_ts.min() ) / ( green_ts.max() - green_ts.min() ).astype(np.float32)\n",
    "del green_ts\n",
    "print(green_ts_norm.min() , green_ts_norm.max(), green_ts_norm.shape, green_ts_norm.dtype)"
   ]
  },
  {
   "cell_type": "code",
   "execution_count": null,
   "metadata": {
    "colab": {
     "base_uri": "https://localhost:8080/"
    },
    "id": "hFNAbyIyfAJT",
    "outputId": "23a1ddba-f138-42f6-8399-42d8becc6088"
   },
   "outputs": [],
   "source": [
    "# Normalisation des séries temporelles par bande: Bleu\n",
    "blue_ts_norm = ( blue_ts - blue_ts.min() ) / ( blue_ts.max() - blue_ts.min() ).astype(np.float32)\n",
    "del blue_ts\n",
    "print(blue_ts_norm.min() , blue_ts_norm.max(), blue_ts_norm.shape, blue_ts_norm.dtype)"
   ]
  },
  {
   "cell_type": "code",
   "execution_count": null,
   "metadata": {
    "colab": {
     "base_uri": "https://localhost:8080/"
    },
    "id": "epIhb6brfAUK",
    "outputId": "72fb94dc-1636-4be7-8581-90a4039276bb"
   },
   "outputs": [],
   "source": [
    "# Normalisation des séries temporelles par bande: Proche infrarouge\n",
    "nir_ts_norm = ( nir_ts - nir_ts.min() ) / ( nir_ts.max() - nir_ts.min() ).astype(np.float32)\n",
    "del nir_ts\n",
    "print(nir_ts_norm.min() , nir_ts_norm.max(), nir_ts_norm.shape, nir_ts_norm.dtype)"
   ]
  },
  {
   "cell_type": "markdown",
   "metadata": {
    "id": "YDQUbh3Nkpn7"
   },
   "source": [
    "### **Lecture de la vérité terrain et récupération des positions des pixels du jeu d'entraînement et de test**"
   ]
  },
  {
   "cell_type": "markdown",
   "metadata": {
    "id": "V_mXEBEKmuw7"
   },
   "source": [
    "#### **Lecture des fichiers de la vérité terrain**"
   ]
  },
  {
   "cell_type": "code",
   "execution_count": null,
   "metadata": {
    "colab": {
     "base_uri": "https://localhost:8080/"
    },
    "id": "NBCQhbMUoBJU",
    "outputId": "bd5102fb-4600-4164-cf7f-090dc8787090"
   },
   "outputs": [],
   "source": [
    "# Lire le fichier correspondant aux classes d'occupation du sol\n",
    "gt_class = tifffile.imread ('Data/Verite_terrain/DORDOGNE_VT_CLASS.tif')\n",
    "gt_class.shape , gt_class.dtype"
   ]
  },
  {
   "cell_type": "code",
   "execution_count": null,
   "metadata": {
    "colab": {
     "base_uri": "https://localhost:8080/"
    },
    "id": "JLnTil_psMLW",
    "outputId": "37b1bebd-eeba-47c5-dd26-a26b7516a682"
   },
   "outputs": [],
   "source": [
    "# Lire le fichier correspondant aux identifiants\n",
    "gt_id = tifffile.imread ('Data/Verite_terrain/DORDOGNE_VT_ID.tif')\n",
    "gt_id.shape, gt_id.dtype"
   ]
  },
  {
   "cell_type": "markdown",
   "metadata": {
    "id": "RjyGTdRpm5ii"
   },
   "source": [
    "#### **Récupération des positions des pixels d'entraînement et de test**"
   ]
  },
  {
   "cell_type": "code",
   "execution_count": null,
   "metadata": {
    "id": "yosWk1_BgiLE"
   },
   "outputs": [],
   "source": [
    "# Récupérer les positions des échantillons d'entraînement et test\n",
    "idx_train_ = np.where ( (gt_id!=0) & (gt_class!=0) )\n",
    "idx_test = np.where ( (gt_id!=0) & (gt_class==0) )"
   ]
  },
  {
   "cell_type": "code",
   "execution_count": null,
   "metadata": {
    "colab": {
     "base_uri": "https://localhost:8080/",
     "height": 35
    },
    "id": "uRX0xj4zjvVY",
    "outputId": "0b2bfa63-b409-4274-92ee-74010a924ea8"
   },
   "outputs": [],
   "source": [
    "# Lecture des identifiants et labels des échantillons d'entraînement\n",
    "train_id_ = gt_id[idx_train_]\n",
    "train_y_ = gt_class[idx_train_]\n",
    "f'échantillons d\\'entrainement: {train_y_.shape[0]} pixels, {len(np.unique(train_id_))} objets'"
   ]
  },
  {
   "cell_type": "code",
   "execution_count": null,
   "metadata": {
    "colab": {
     "base_uri": "https://localhost:8080/",
     "height": 35
    },
    "id": "kiPCaHQ2jtZu",
    "outputId": "09ce3878-cd4e-4eec-c61a-6cb031a9c754"
   },
   "outputs": [],
   "source": [
    "# Lecture des identifiants et labels des échantillons de test\n",
    "test_id = gt_id[idx_test]\n",
    "f'échantillons test: {test_id.shape[0]} pixels, {len(np.unique(test_id))} objets'"
   ]
  },
  {
   "cell_type": "markdown",
   "metadata": {
    "id": "hNFyNkc5oc6z"
   },
   "source": [
    "### **Création d'un jeu de validation en prenant une partie du jeu d'entraînement**\n",
    "Pour cela, on s'assure de faire la division en mettant les pixels ayant le même identifiant dans un seul et même lot"
   ]
  },
  {
   "cell_type": "code",
   "execution_count": null,
   "metadata": {
    "colab": {
     "base_uri": "https://localhost:8080/",
     "height": 204
    },
    "id": "2hI-jAEqrac1",
    "outputId": "43e8b585-0304-424d-d1dc-c489c93ee646"
   },
   "outputs": [],
   "source": [
    "# Dataframe pour créer un jeu de validation\n",
    "samples = pd.DataFrame({'ID':train_id_,'Class':train_y_})\n",
    "samples = samples.drop_duplicates(keep='first')\n",
    "samples.head(5)"
   ]
  },
  {
   "cell_type": "code",
   "execution_count": null,
   "metadata": {
    "colab": {
     "base_uri": "https://localhost:8080/"
    },
    "id": "894SPjgRs_S7",
    "outputId": "38870da8-244f-4b69-ab71-ea3fb1a936ac"
   },
   "outputs": [],
   "source": [
    "# 30% des échantillons de chaque classe affecté au jeu de validation\n",
    "train_id = []\n",
    "valid_id = []\n",
    "for c in np.unique(samples.Class.values) :\n",
    "    samples_c = samples.loc[samples.Class==c]\n",
    "    samples_frac = samples_c.sample(frac=0.7,random_state=1234) \n",
    "    train_id.extend( samples_frac.ID.values )\n",
    "    valid_id.extend( samples_c.drop(samples_frac.index).ID.values )\n",
    "len(train_id),len(valid_id)"
   ]
  },
  {
   "cell_type": "markdown",
   "metadata": {
    "id": "6J609q3BrKRk"
   },
   "source": [
    "### **Récupération des positions des nouveaux échantillons d'entraînement et de validation**"
   ]
  },
  {
   "cell_type": "code",
   "execution_count": null,
   "metadata": {
    "id": "WmVBWpvFdjlk"
   },
   "outputs": [],
   "source": [
    "# Récupérer les positions des nouveaux échantillons d'entraînement et validation\n",
    "idx_train = np.where ( np.isin(gt_id,train_id) )\n",
    "idx_valid = np.where ( np.isin(gt_id,valid_id) )"
   ]
  },
  {
   "cell_type": "markdown",
   "metadata": {
    "id": "3U6m2R-UwEFK"
   },
   "source": [
    "### **Lire finalement les labels correspondant aux nouveaux échantillons d'entraînement, de validation et test**"
   ]
  },
  {
   "cell_type": "code",
   "execution_count": null,
   "metadata": {
    "colab": {
     "base_uri": "https://localhost:8080/"
    },
    "id": "vF_PEzn3vQzT",
    "outputId": "d703ae58-fa6b-421a-9818-36b6978e417e"
   },
   "outputs": [],
   "source": [
    "train_y = gt_class[idx_train]\n",
    "valid_y = gt_class[idx_valid]\n",
    "test_y = gt_class[idx_test]\n",
    "train_y.shape, valid_y.shape, test_y.shape"
   ]
  },
  {
   "cell_type": "markdown",
   "metadata": {
    "id": "lAt4KCeZR1Os"
   },
   "source": [
    "### **Lire finalement les identifiants correspondant aux nouveaux échantillons d'entraînement, de validation et test**"
   ]
  },
  {
   "cell_type": "code",
   "execution_count": null,
   "metadata": {
    "colab": {
     "base_uri": "https://localhost:8080/"
    },
    "id": "m3SiC0eVRvtA",
    "outputId": "7251796d-f4f0-44eb-e1a5-b5f0e52972b7"
   },
   "outputs": [],
   "source": [
    "# utile pour les aggrégations au niveau objet\n",
    "# train_id_array = gt_id[idx_train] # Pas vraiment nécessaire pour les échantillons d'entraînements\n",
    "valid_id_array = gt_id[idx_valid]\n",
    "test_id_array = gt_id[idx_test]\n",
    "#train_id_array.shape, \n",
    "valid_id_array.shape, test_id_array.shape"
   ]
  },
  {
   "cell_type": "markdown",
   "metadata": {
    "id": "xa-8J5r9r3KI"
   },
   "source": [
    "### **Lire finalement les valeurs des séries temporelles correspondant aux nouveaux échantillons d'entraînement, de validation et test**"
   ]
  },
  {
   "cell_type": "code",
   "execution_count": null,
   "metadata": {},
   "outputs": [],
   "source": [
    "# Un CNN 2D ou spatial requiert un tableau 3D du type (nombre d'échantillons, largeur, hauteur, nombre de features= (nombre de dates x nombre de bandes) )\n",
    "# Vous pouvez rajouter à la liste des bandes les indices spectraux normalisés que vous aurez calculé\n",
    "\n",
    "# Training\n",
    "# 1- précaution pour ne pas considérer les pixels dont on ne peut extraire des patchs car trop près du bord\n",
    "idx_col = idx_train[0]\n",
    "idx_row = idx_train[1]\n",
    "coords = np.column_stack((idx_col,idx_row))\n",
    "coords = coords[np.where( ( np.isin(coords[:,0],np.arange(2,blue_ts_norm.shape[0]-2,1)) ) & ( np.isin(coords[:,1],np.arange(2,blue_ts_norm.shape[1]-2,1)) ) ) ]\n",
    "# len(coords)\n",
    "# 2- créer un tableau avec les patchs\n",
    "train_X = []\n",
    "for coord in coords :\n",
    "    lst = []\n",
    "    for band in [blue_ts_norm,green_ts_norm,red_ts_norm,nir_ts_norm]:\n",
    "        lst.append( band[coord[0]-2:coord[0]+3,coord[1]-2:coord[1]+3] )\n",
    "    train_X.append(np.stack(lst,axis=-1))#.reshape(20,20,-1))\n",
    "train_X = np.stack(train_X,axis=0)\n",
    "train_X.shape"
   ]
  },
  {
   "cell_type": "code",
   "execution_count": null,
   "metadata": {},
   "outputs": [],
   "source": [
    "# Validation\n",
    "# 1- précaution pour ne pas considérer les pixels dont on ne peut extraire des patchs car trop près du bord\n",
    "idx_col = idx_valid[0]\n",
    "idx_row = idx_valid[1]\n",
    "coords = np.column_stack((idx_col,idx_row))\n",
    "coords = coords[np.where( ( np.isin(coords[:,0],np.arange(2,blue_ts_norm.shape[0]-2,1)) ) & ( np.isin(coords[:,1],np.arange(2,blue_ts_norm.shape[1]-2,1)) ) ) ]\n",
    "# len(coords)\n",
    "# 2- créer un tableau avec les patchs\n",
    "valid_X = []\n",
    "for coord in coords :\n",
    "    lst = []\n",
    "    for band in [blue_ts_norm,green_ts_norm,red_ts_norm,nir_ts_norm]:\n",
    "        lst.append( band[coord[0]-2:coord[0]+3,coord[1]-2:coord[1]+3] )\n",
    "    valid_X.append(np.stack(lst,axis=-1))#.reshape(20,20,-1))\n",
    "valid_X = np.stack(valid_X,axis=0)\n",
    "valid_X.shape"
   ]
  },
  {
   "cell_type": "code",
   "execution_count": null,
   "metadata": {},
   "outputs": [],
   "source": [
    "# Test\n",
    "# 1- précaution pour ne pas considérer les pixels dont on ne peut extraire des patchs car trop près du bord\n",
    "idx_col = idx_test[0]\n",
    "idx_row = idx_test[1]\n",
    "coords = np.column_stack((idx_col,idx_row))\n",
    "coords = coords[np.where( ( np.isin(coords[:,0],np.arange(2,blue_ts_norm.shape[0]-2,1)) ) & ( np.isin(coords[:,1],np.arange(2,blue_ts_norm.shape[1]-2,1)) ) ) ]\n",
    "# len(coords)\n",
    "# 2- créer un tableau avec les patchs\n",
    "test_X = []\n",
    "for coord in coords :\n",
    "    lst = []\n",
    "    for band in [blue_ts_norm,green_ts_norm,red_ts_norm,nir_ts_norm]:\n",
    "        lst.append( band[coord[0]-2:coord[0]+3,coord[1]-2:coord[1]+3] )\n",
    "    test_X.append(np.stack(lst,axis=-1))#.reshape(20,20,-1))\n",
    "test_X = np.stack(test_X,axis=0)\n",
    "test_X.shape"
   ]
  },
  {
   "cell_type": "code",
   "execution_count": null,
   "metadata": {},
   "outputs": [],
   "source": [
    "try:\n",
    "    os.stat('Data/train_valid_test')\n",
    "except:\n",
    "    os.mkdir('Data/train_valid_test')\n",
    "\n",
    "np.save('Data/train_valid_test/train_X.npy',train_X)\n",
    "np.save('Data/train_valid_test/train_y.npy',train_y)\n",
    "\n",
    "np.save('Data/train_valid_test/valid_X.npy',valid_X)\n",
    "np.save('Data/train_valid_test/valid_y.npy',valid_y)\n",
    "np.save('Data/train_valid_test/valid_id.npy',valid_id_array)\n",
    "\n",
    "np.save('Data/train_valid_test/test_X.npy',test_X)\n",
    "np.save('Data/train_valid_test/test_id.npy',test_id_array)"
   ]
  }
 ],
 "metadata": {
  "accelerator": "GPU",
  "colab": {
   "collapsed_sections": [
    "PXS90K1Vsg4H",
    "YqabJEyUtgPX",
    "oRTUKBQBwd1V",
    "Pw7NPxTTDD_X",
    "Mt5n9mbE86cJ"
   ],
   "name": "Projet_HMIN339M_light.ipynb",
   "provenance": []
  },
  "kernelspec": {
   "display_name": "Python 3",
   "language": "python",
   "name": "python3"
  },
  "language_info": {
   "codemirror_mode": {
    "name": "ipython",
    "version": 3
   },
   "file_extension": ".py",
   "mimetype": "text/x-python",
   "name": "python",
   "nbconvert_exporter": "python",
   "pygments_lexer": "ipython3",
   "version": "3.7.4"
  }
 },
 "nbformat": 4,
 "nbformat_minor": 1
}
