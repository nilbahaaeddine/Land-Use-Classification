{
 "cells": [
  {
   "cell_type": "code",
   "execution_count": 1,
   "metadata": {},
   "outputs": [],
   "source": [
    "import os\n",
    "import glob\n",
    "import numpy as np\n",
    "import pandas as pd\n",
    "import tifffile\n",
    "from pathlib import Path\n",
    "from sklearn.metrics import f1_score, confusion_matrix\n",
    "from sklearn.preprocessing import LabelEncoder\n",
    "import tensorflow as tf\n",
    "from tensorflow.keras.layers import Dense, Dropout, Activation, Flatten, Conv2D, Conv1D, GlobalAveragePooling1D, GlobalAveragePooling2D, BatchNormalization\n",
    "from tensorflow.keras.models import Sequential"
   ]
  },
  {
   "cell_type": "markdown",
   "metadata": {},
   "source": [
    "### **Recharger les données d'entraînement, de validation et test en fichier numpy**"
   ]
  },
  {
   "cell_type": "code",
   "execution_count": 2,
   "metadata": {},
   "outputs": [
    {
     "data": {
      "text/plain": [
       "((451962, 8, 4),\n",
       " (451962,),\n",
       " (153469, 8, 4),\n",
       " (153469,),\n",
       " (153469,),\n",
       " (207485, 8, 4),\n",
       " (207485,))"
      ]
     },
     "execution_count": 2,
     "metadata": {},
     "output_type": "execute_result"
    }
   ],
   "source": [
    "# Recharger les données après avoir vidé la mémoire\n",
    "train_X = np.load('Projet_HMIN339M/data1D/train_X.npy')\n",
    "train_y = np.load('Projet_HMIN339M/data1D/train_y.npy')\n",
    "\n",
    "valid_X = np.load('Projet_HMIN339M/data1D/valid_X.npy')\n",
    "valid_y = np.load('Projet_HMIN339M/data1D/valid_y.npy')\n",
    "valid_id = np.load('Projet_HMIN339M/data1D/valid_id.npy')\n",
    "\n",
    "test_X = np.load('Projet_HMIN339M/data1D/test_X.npy')\n",
    "test_id = np.load('Projet_HMIN339M/data1D/test_id.npy')\n",
    "train_X.shape, train_y.shape, valid_X.shape, valid_y.shape, valid_id.shape, test_X.shape, test_id.shape"
   ]
  },
  {
   "cell_type": "markdown",
   "metadata": {},
   "source": [
    "### **Encoder les labels entre 0 et 4 de sorte à matcher les prédictions des réseaux de neurones**"
   ]
  },
  {
   "cell_type": "code",
   "execution_count": 3,
   "metadata": {},
   "outputs": [
    {
     "data": {
      "text/plain": [
       "(array([1, 2, 3, 4, 5], dtype=uint8),\n",
       " array([0, 1, 2, 3, 4]),\n",
       " array([1, 2, 3, 4, 5], dtype=uint8),\n",
       " array([0, 1, 2, 3, 4]))"
      ]
     },
     "execution_count": 3,
     "metadata": {},
     "output_type": "execute_result"
    }
   ],
   "source": [
    "encoder = LabelEncoder()\n",
    "encoder.fit(train_y)\n",
    "train_y_enc = encoder.transform(train_y)\n",
    "valid_y_enc = encoder.transform(valid_y)\n",
    "np.unique(train_y), np.unique(train_y_enc), np.unique(valid_y), np.unique(valid_y_enc)"
   ]
  },
  {
   "cell_type": "code",
   "execution_count": 4,
   "metadata": {},
   "outputs": [
    {
     "name": "stdout",
     "output_type": "stream",
     "text": [
      "Model: \"sequential\"\n",
      "_________________________________________________________________\n",
      "Layer (type)                 Output Shape              Param #   \n",
      "=================================================================\n",
      "lstm (LSTM)                  (None, 8, 128)            68096     \n",
      "_________________________________________________________________\n",
      "dropout (Dropout)            (None, 8, 128)            0         \n",
      "_________________________________________________________________\n",
      "lstm_1 (LSTM)                (None, 128)               131584    \n",
      "_________________________________________________________________\n",
      "dropout_1 (Dropout)          (None, 128)               0         \n",
      "_________________________________________________________________\n",
      "dense (Dense)                (None, 32)                4128      \n",
      "_________________________________________________________________\n",
      "dropout_2 (Dropout)          (None, 32)                0         \n",
      "_________________________________________________________________\n",
      "dense_1 (Dense)              (None, 5)                 165       \n",
      "=================================================================\n",
      "Total params: 203,973\n",
      "Trainable params: 203,973\n",
      "Non-trainable params: 0\n",
      "_________________________________________________________________\n",
      "Epoch 1/10\n",
      "1765/1766 [============================>.] - ETA: 0s - loss: 0.5331 - accuracy: 0.8216\n",
      "Epoch 00001: accuracy improved from -inf to 0.82158, saving model to my_model/model\n",
      "1766/1766 [==============================] - 142s 80ms/step - loss: 0.5331 - accuracy: 0.8216 - val_loss: 0.4216 - val_accuracy: 0.8334\n",
      "Epoch 2/10\n",
      "1766/1766 [==============================] - ETA: 0s - loss: 0.4170 - accuracy: 0.8620\n",
      "Epoch 00002: accuracy improved from 0.82158 to 0.86204, saving model to my_model/model\n",
      "1766/1766 [==============================] - 154s 87ms/step - loss: 0.4170 - accuracy: 0.8620 - val_loss: 0.4025 - val_accuracy: 0.8474\n",
      "Epoch 3/10\n",
      "1766/1766 [==============================] - ETA: 0s - loss: 0.3761 - accuracy: 0.8745\n",
      "Epoch 00003: accuracy improved from 0.86204 to 0.87452, saving model to my_model/model\n",
      "1766/1766 [==============================] - 158s 89ms/step - loss: 0.3761 - accuracy: 0.8745 - val_loss: 0.4458 - val_accuracy: 0.8497\n",
      "Epoch 4/10\n",
      "1766/1766 [==============================] - ETA: 0s - loss: 0.3477 - accuracy: 0.8822\n",
      "Epoch 00004: accuracy improved from 0.87452 to 0.88224, saving model to my_model/model\n",
      "1766/1766 [==============================] - 193s 109ms/step - loss: 0.3477 - accuracy: 0.8822 - val_loss: 0.3210 - val_accuracy: 0.8851\n",
      "Epoch 5/10\n",
      "1766/1766 [==============================] - ETA: 0s - loss: 0.3295 - accuracy: 0.8881\n",
      "Epoch 00005: accuracy improved from 0.88224 to 0.88811, saving model to my_model/model\n",
      "1766/1766 [==============================] - 205s 116ms/step - loss: 0.3295 - accuracy: 0.8881 - val_loss: 0.3526 - val_accuracy: 0.8758\n",
      "Epoch 6/10\n",
      "1765/1766 [============================>.] - ETA: 0s - loss: 0.3130 - accuracy: 0.8927\n",
      "Epoch 00006: accuracy improved from 0.88811 to 0.89271, saving model to my_model/model\n",
      "1766/1766 [==============================] - 208s 118ms/step - loss: 0.3130 - accuracy: 0.8927 - val_loss: 0.3348 - val_accuracy: 0.8834\n",
      "Epoch 7/10\n",
      "1765/1766 [============================>.] - ETA: 0s - loss: 0.2997 - accuracy: 0.8968\n",
      "Epoch 00007: accuracy improved from 0.89271 to 0.89680, saving model to my_model/model\n",
      "1766/1766 [==============================] - 182s 103ms/step - loss: 0.2996 - accuracy: 0.8968 - val_loss: 0.3079 - val_accuracy: 0.8908\n",
      "Epoch 8/10\n",
      "1765/1766 [============================>.] - ETA: 0s - loss: 0.2901 - accuracy: 0.8995\n",
      "Epoch 00008: accuracy improved from 0.89680 to 0.89949, saving model to my_model/model\n",
      "1766/1766 [==============================] - 187s 106ms/step - loss: 0.2901 - accuracy: 0.8995 - val_loss: 0.3125 - val_accuracy: 0.8893\n",
      "Epoch 9/10\n",
      "1765/1766 [============================>.] - ETA: 0s - loss: 0.2814 - accuracy: 0.9022\n",
      "Epoch 00009: accuracy improved from 0.89949 to 0.90216, saving model to my_model/model\n",
      "1766/1766 [==============================] - 170s 96ms/step - loss: 0.2814 - accuracy: 0.9022 - val_loss: 0.3187 - val_accuracy: 0.8850\n",
      "Epoch 10/10\n",
      "1765/1766 [============================>.] - ETA: 0s - loss: 0.2743 - accuracy: 0.9042\n",
      "Epoch 00010: accuracy improved from 0.90216 to 0.90422, saving model to my_model/model\n",
      "1766/1766 [==============================] - 131s 74ms/step - loss: 0.2743 - accuracy: 0.9042 - val_loss: 0.3348 - val_accuracy: 0.8816\n"
     ]
    },
    {
     "data": {
      "text/plain": [
       "<tensorflow.python.keras.callbacks.History at 0x7f37b8d12450>"
      ]
     },
     "execution_count": 4,
     "metadata": {},
     "output_type": "execute_result"
    }
   ],
   "source": [
    "import tensorflow as  tf\n",
    "from tensorflow.keras.models import Sequential\n",
    "from tensorflow.keras.layers import Dense, Dropout, LSTM\n",
    "\n",
    "model = Sequential()\n",
    "model.add(LSTM(128, input_shape=(train_X.shape[1:]), activation='relu', return_sequences=True))\n",
    "model.add(Dropout(0.2))\n",
    "\n",
    "model.add(LSTM(128, activation='relu'))\n",
    "model.add(Dropout(0.2))\n",
    "\n",
    "model.add(Dense(32, activation='relu'))\n",
    "model.add(Dropout(0.2))\n",
    "\n",
    "model.add(Dense(5, activation='softmax'))\n",
    "\n",
    "model.summary()\n",
    "\n",
    "opt = tf.keras.optimizers.Adam(lr=1e-3, decay=1e-5)\n",
    "model.compile(loss=\"sparse_categorical_crossentropy\", optimizer=\"adam\", metrics=[\"accuracy\"])\n",
    "\n",
    "# Définir un callback pour sauver les poids de votre modèle sur les meilleures époque c'est à dire les moments où il s'améliorera sur le jeu de validation\n",
    "Path('my_model').mkdir(exist_ok=True, parents=True)\n",
    "checkpointpath = os.path.join('my_model','model') # chemin où sauver le modèle\n",
    "callbacks = [tf.keras.callbacks.ModelCheckpoint(\n",
    "              checkpointpath,\n",
    "              verbose=1, # niveau de log\n",
    "              monitor='accuracy', # nom de la métrique à surveiller\n",
    "              save_best_only=True, # sauver uniquement le meilleur modèle\n",
    "              save_weights_only=True)] # sauver uniquement les poids\n",
    "\n",
    "BATCH_SIZE = 256\n",
    "EPOCHS = 10\n",
    "model.fit(train_X, train_y_enc, validation_data=(valid_X,valid_y_enc), batch_size=BATCH_SIZE, epochs=EPOCHS, callbacks=callbacks)"
   ]
  },
  {
   "cell_type": "code",
   "execution_count": 5,
   "metadata": {},
   "outputs": [
    {
     "data": {
      "text/plain": [
       "<tensorflow.python.training.tracking.util.CheckpointLoadStatus at 0x7f37b8dbd850>"
      ]
     },
     "execution_count": 5,
     "metadata": {},
     "output_type": "execute_result"
    }
   ],
   "source": [
    "# Restaurer les poids du modèle sur la meilleure époque d'entraînement\n",
    "model.load_weights(checkpointpath)"
   ]
  },
  {
   "cell_type": "code",
   "execution_count": 6,
   "metadata": {},
   "outputs": [
    {
     "name": "stdout",
     "output_type": "stream",
     "text": [
      "The history saving thread hit an unexpected error (OperationalError('disk I/O error')).History will not be written to the database.\n",
      "600/600 [==============================] - 44s 74ms/step - loss: 0.3348 - accuracy: 0.8816\n"
     ]
    },
    {
     "data": {
      "text/plain": [
       "[0.3347608149051666, 0.8815591335296631]"
      ]
     },
     "execution_count": 6,
     "metadata": {},
     "output_type": "execute_result"
    }
   ],
   "source": [
    "# S'assurer que c'est bien le meilleur modèle sur les époques d'entraînement\n",
    "model.evaluate(valid_X,valid_y_enc,batch_size=256)"
   ]
  },
  {
   "cell_type": "markdown",
   "metadata": {},
   "source": [
    "### **Prédiction des classes sur le jeu de validation et évaluation en aggrégeant au niveau objet**"
   ]
  },
  {
   "cell_type": "code",
   "execution_count": 7,
   "metadata": {},
   "outputs": [
    {
     "data": {
      "text/plain": [
       "(153469, 5)"
      ]
     },
     "execution_count": 7,
     "metadata": {},
     "output_type": "execute_result"
    }
   ],
   "source": [
    "# Récupérer les probabilités prédites sur le jeu de validation\n",
    "valid_prob = model.predict(valid_X,batch_size=256)\n",
    "valid_prob.shape"
   ]
  },
  {
   "cell_type": "code",
   "execution_count": 8,
   "metadata": {},
   "outputs": [
    {
     "data": {
      "text/plain": [
       "(153469,)"
      ]
     },
     "execution_count": 8,
     "metadata": {},
     "output_type": "execute_result"
    }
   ],
   "source": [
    "# Retourner la classe correspondant à la probabilité la plus haute\n",
    "valid_pred = np.argmax(valid_prob,axis=1) # axe 1 car ceci concerne chaque ligne\n",
    "valid_pred.shape"
   ]
  },
  {
   "cell_type": "code",
   "execution_count": 9,
   "metadata": {},
   "outputs": [
    {
     "data": {
      "text/plain": [
       "array([1, 2, 3, 4, 5], dtype=uint8)"
      ]
     },
     "execution_count": 9,
     "metadata": {},
     "output_type": "execute_result"
    }
   ],
   "source": [
    "# Je réencode les prédictions entre 1 et 5\n",
    "valid_pred_enc = encoder.inverse_transform(valid_pred)\n",
    "np.unique(valid_pred_enc)"
   ]
  },
  {
   "cell_type": "code",
   "execution_count": 10,
   "metadata": {},
   "outputs": [
    {
     "data": {
      "text/plain": [
       "(558, 2)"
      ]
     },
     "execution_count": 10,
     "metadata": {},
     "output_type": "execute_result"
    }
   ],
   "source": [
    "# Aggrégation au niveau objet\n",
    "out_pred = []\n",
    "unique_id = np.unique(valid_id)\n",
    "for ID in unique_id :\n",
    "    # Récupérer les prédictions des pixels appartenant au même objet\n",
    "    pred = valid_pred_enc[np.where(valid_id==ID)]\n",
    "    y_true = valid_y[np.where(valid_id==ID)]\n",
    "    # Prendre la valeur majoritaire des prédictions sur les pixels\n",
    "    out_pred.append([ np.bincount(y_true).argmax(), np.bincount(pred).argmax()]) #(Vérité terrain,Prédiction majoritaire)\n",
    "out_pred = np.vstack(out_pred)\n",
    "out_pred.shape"
   ]
  },
  {
   "cell_type": "code",
   "execution_count": 11,
   "metadata": {},
   "outputs": [
    {
     "data": {
      "text/plain": [
       "0.8342717522176292"
      ]
     },
     "execution_count": 11,
     "metadata": {},
     "output_type": "execute_result"
    }
   ],
   "source": [
    "# F1 score au niveau objet\n",
    "f1_score(out_pred[:,0],out_pred[:,1],average='weighted')"
   ]
  },
  {
   "cell_type": "markdown",
   "metadata": {},
   "source": [
    "### **Prédire sur le jeu test et Préparer une soumission**"
   ]
  },
  {
   "cell_type": "code",
   "execution_count": 12,
   "metadata": {},
   "outputs": [
    {
     "data": {
      "text/plain": [
       "(207485, 5)"
      ]
     },
     "execution_count": 12,
     "metadata": {},
     "output_type": "execute_result"
    }
   ],
   "source": [
    "# Récupérer les probabilités prédites sur le jeu test\n",
    "test_prob = model.predict(test_X,batch_size=256)\n",
    "test_prob.shape"
   ]
  },
  {
   "cell_type": "code",
   "execution_count": 13,
   "metadata": {},
   "outputs": [
    {
     "data": {
      "text/plain": [
       "(207485,)"
      ]
     },
     "execution_count": 13,
     "metadata": {},
     "output_type": "execute_result"
    }
   ],
   "source": [
    "# Retourner la classe correspondant à la probabilité la plus haute\n",
    "test_pred = np.argmax(test_prob,axis=1) # axe 1 car ceci concerne chaque ligne\n",
    "test_pred.shape"
   ]
  },
  {
   "cell_type": "code",
   "execution_count": 14,
   "metadata": {},
   "outputs": [
    {
     "data": {
      "text/plain": [
       "array([1, 2, 3, 4, 5], dtype=uint8)"
      ]
     },
     "execution_count": 14,
     "metadata": {},
     "output_type": "execute_result"
    }
   ],
   "source": [
    "# Je réencode les prédictions entre 1 et 5\n",
    "test_pred_enc = encoder.inverse_transform(test_pred)\n",
    "np.unique(test_pred_enc)"
   ]
  },
  {
   "cell_type": "code",
   "execution_count": 15,
   "metadata": {},
   "outputs": [
    {
     "data": {
      "text/plain": [
       "(800, 2)"
      ]
     },
     "execution_count": 15,
     "metadata": {},
     "output_type": "execute_result"
    }
   ],
   "source": [
    "# Aggrégation au niveau objet\n",
    "agg_pred = []\n",
    "unique_id = np.unique(test_id)\n",
    "for ID in unique_id :\n",
    "    # Récupérer les prédictions des pixels appartenant au même objet\n",
    "    pred = test_pred_enc[np.where(test_id==ID)]\n",
    "    # Prendre la valeur majoritaire des prédictions sur les pixels\n",
    "    agg_pred.append([ ID, np.bincount(pred).argmax()]) #(ID,Prédiction majoritaire)\n",
    "agg_pred = np.vstack(agg_pred)\n",
    "agg_pred.shape"
   ]
  },
  {
   "cell_type": "code",
   "execution_count": 16,
   "metadata": {},
   "outputs": [
    {
     "data": {
      "text/html": [
       "<div>\n",
       "<style scoped>\n",
       "    .dataframe tbody tr th:only-of-type {\n",
       "        vertical-align: middle;\n",
       "    }\n",
       "\n",
       "    .dataframe tbody tr th {\n",
       "        vertical-align: top;\n",
       "    }\n",
       "\n",
       "    .dataframe thead th {\n",
       "        text-align: right;\n",
       "    }\n",
       "</style>\n",
       "<table border=\"1\" class=\"dataframe\">\n",
       "  <thead>\n",
       "    <tr style=\"text-align: right;\">\n",
       "      <th></th>\n",
       "      <th>ID</th>\n",
       "      <th>Class</th>\n",
       "    </tr>\n",
       "  </thead>\n",
       "  <tbody>\n",
       "    <tr>\n",
       "      <td>0</td>\n",
       "      <td>4</td>\n",
       "      <td>5</td>\n",
       "    </tr>\n",
       "    <tr>\n",
       "      <td>1</td>\n",
       "      <td>7</td>\n",
       "      <td>3</td>\n",
       "    </tr>\n",
       "    <tr>\n",
       "      <td>2</td>\n",
       "      <td>8</td>\n",
       "      <td>5</td>\n",
       "    </tr>\n",
       "    <tr>\n",
       "      <td>3</td>\n",
       "      <td>9</td>\n",
       "      <td>3</td>\n",
       "    </tr>\n",
       "    <tr>\n",
       "      <td>4</td>\n",
       "      <td>10</td>\n",
       "      <td>3</td>\n",
       "    </tr>\n",
       "  </tbody>\n",
       "</table>\n",
       "</div>"
      ],
      "text/plain": [
       "   ID  Class\n",
       "0   4      5\n",
       "1   7      3\n",
       "2   8      5\n",
       "3   9      3\n",
       "4  10      3"
      ]
     },
     "execution_count": 16,
     "metadata": {},
     "output_type": "execute_result"
    }
   ],
   "source": [
    "df = pd.DataFrame({'ID':agg_pred[:,0],'Class':agg_pred[:,1]})\n",
    "df.to_csv('Soumission_GoFocus_RNN.csv',index=False)\n",
    "df.head(5)"
   ]
  },
  {
   "cell_type": "code",
   "execution_count": null,
   "metadata": {},
   "outputs": [],
   "source": [
    "# F1 Score au niveau objet\n",
    "df_test = pd.read_csv('Test_ID_Label.csv') # Ce fichier vous sera fourni le 12 Novembre\n",
    "f1_score(df_test.Class,df.Class,average='weighted')"
   ]
  }
 ],
 "metadata": {
  "kernelspec": {
   "display_name": "Python 3",
   "language": "python",
   "name": "python3"
  },
  "language_info": {
   "codemirror_mode": {
    "name": "ipython",
    "version": 3
   },
   "file_extension": ".py",
   "mimetype": "text/x-python",
   "name": "python",
   "nbconvert_exporter": "python",
   "pygments_lexer": "ipython3",
   "version": "3.7.4"
  }
 },
 "nbformat": 4,
 "nbformat_minor": 2
}
